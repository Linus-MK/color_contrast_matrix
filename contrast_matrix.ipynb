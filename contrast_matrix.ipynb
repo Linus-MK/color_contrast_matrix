{
 "cells": [
  {
   "cell_type": "code",
   "execution_count": 1,
   "metadata": {},
   "outputs": [],
   "source": [
    "# 相対輝度 (relative luminance)\n",
    "# https://waic.jp/docs/WCAG20/Overview.html#relativeluminancedef\n",
    "\n",
    "def calc_luminance(val):\n",
    "    if val <= 0.03928 :\n",
    "        return val / 12.92\n",
    "    else:\n",
    "        return ((val+0.055)/1.055) ** 2.4\n",
    "    \n",
    "def get_relative_luminance(red, green, blue):\n",
    "    red /= 255\n",
    "    green /= 255\n",
    "    blue /= 255\n",
    "    \n",
    "    R = calc_luminance(red)\n",
    "    G = calc_luminance(green)\n",
    "    B = calc_luminance(blue)\n",
    "    \n",
    "    L = 0.2126 * R + 0.7152 * G + 0.0722 * B\n",
    "    return L"
   ]
  },
  {
   "cell_type": "code",
   "execution_count": 2,
   "metadata": {},
   "outputs": [],
   "source": [
    "# コントラスト比 (contrast ratio)\n",
    "# https://waic.jp/docs/WCAG20/Overview.html#contrast-ratiodef\n",
    "\n",
    "def get_contrast_ratio(c1, c2):\n",
    "    l1 = get_relative_luminance(c1.red, c1.green, c1.blue)\n",
    "    l2 = get_relative_luminance(c2.red, c2.green, c2.blue)\n",
    "    \n",
    "    if l1 > l2:\n",
    "        return (l1 + 0.05) / (l2 + 0.05) \n",
    "    else:\n",
    "        return (l2 + 0.05) / (l1 + 0.05) \n"
   ]
  },
  {
   "cell_type": "code",
   "execution_count": 3,
   "metadata": {},
   "outputs": [],
   "source": [
    "class color:\n",
    "    def __init__(self, r, g, b):\n",
    "        self.red = r\n",
    "        self.green = g\n",
    "        self.blue = b\n"
   ]
  },
  {
   "cell_type": "code",
   "execution_count": 4,
   "metadata": {},
   "outputs": [
    {
     "data": {
      "text/plain": [
       "4.8780265219290335"
      ]
     },
     "execution_count": 4,
     "metadata": {},
     "output_type": "execute_result"
    }
   ],
   "source": [
    "c1 = color(85, 95, 102)\n",
    "c2 = color(238, 226, 96)\n",
    "\n",
    "get_contrast_ratio(c1, c2)"
   ]
  },
  {
   "cell_type": "code",
   "execution_count": null,
   "metadata": {},
   "outputs": [],
   "source": []
  }
 ],
 "metadata": {
  "kernelspec": {
   "display_name": "Python 3",
   "language": "python",
   "name": "python3"
  },
  "language_info": {
   "codemirror_mode": {
    "name": "ipython",
    "version": 3
   },
   "file_extension": ".py",
   "mimetype": "text/x-python",
   "name": "python",
   "nbconvert_exporter": "python",
   "pygments_lexer": "ipython3",
   "version": "3.7.1"
  }
 },
 "nbformat": 4,
 "nbformat_minor": 2
}
