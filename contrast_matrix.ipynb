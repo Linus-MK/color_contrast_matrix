{
 "cells": [
  {
   "cell_type": "code",
   "execution_count": 18,
   "metadata": {},
   "outputs": [],
   "source": [
    "# 相対輝度 (relative luminance)\n",
    "# https://waic.jp/docs/WCAG20/Overview.html#relativeluminancedef\n",
    "\n",
    "def calc_luminance(val):\n",
    "    if val <= 0.03928 :\n",
    "        return val / 12.92\n",
    "    else:\n",
    "        return ((val+0.055)/1.055) ** 2.4\n",
    "    \n",
    "def get_relative_luminance(red, green, blue):\n",
    "    red /= 255\n",
    "    green /= 255\n",
    "    blue /= 255\n",
    "    \n",
    "    R = calc_luminance(red)\n",
    "    G = calc_luminance(green)\n",
    "    B = calc_luminance(blue)\n",
    "    \n",
    "    L = 0.2126 * R + 0.7152 * G + 0.0722 * B\n",
    "    return L"
   ]
  },
  {
   "cell_type": "code",
   "execution_count": 19,
   "metadata": {},
   "outputs": [],
   "source": [
    "# コントラスト比 (contrast ratio)\n",
    "# https://waic.jp/docs/WCAG20/Overview.html#contrast-ratiodef\n",
    "\n",
    "def get_contrast_ratio(c1, c2):\n",
    "    l1 = get_relative_luminance(c1.red, c1.green, c1.blue)\n",
    "    l2 = get_relative_luminance(c2.red, c2.green, c2.blue)\n",
    "    \n",
    "    if l1 > l2:\n",
    "        return (l1 + 0.05) / (l2 + 0.05) \n",
    "    else:\n",
    "        return (l2 + 0.05) / (l1 + 0.05) \n"
   ]
  },
  {
   "cell_type": "code",
   "execution_count": 20,
   "metadata": {},
   "outputs": [],
   "source": [
    "class color:\n",
    "    def __init__(self, r, g, b):\n",
    "        self.red = r\n",
    "        self.green = g\n",
    "        self.blue = b\n"
   ]
  },
  {
   "cell_type": "code",
   "execution_count": 21,
   "metadata": {},
   "outputs": [
    {
     "data": {
      "text/plain": [
       "4.8780265219290335"
      ]
     },
     "execution_count": 21,
     "metadata": {},
     "output_type": "execute_result"
    }
   ],
   "source": [
    "c1 = color(85, 95, 102)\n",
    "c2 = color(238, 226, 96)\n",
    "\n",
    "get_contrast_ratio(c1, c2)"
   ]
  },
  {
   "cell_type": "code",
   "execution_count": 22,
   "metadata": {},
   "outputs": [],
   "source": [
    "def judge_contrast(ratio):\n",
    "    \n",
    "    # 0,1,2,3 を返すようにして、別途0～3を文字列に直したほうが良いのかも?\n",
    "    if ratio >= 7:\n",
    "        return 3\n",
    "    elif ratio >= 4.5:\n",
    "        return 2\n",
    "    elif ratio >= 3:\n",
    "        return 1\n",
    "    else:\n",
    "        return 0\n"
   ]
  },
  {
   "cell_type": "code",
   "execution_count": 33,
   "metadata": {},
   "outputs": [],
   "source": [
    "input_colors = []\n",
    "with open('input', 'r') as f:\n",
    "    for line in f:\n",
    "        input_colors.append (list(map (int, line.split())) )\n",
    "#     aaa = f.readline().split()\n",
    "#     input_colors.append(aaa)\n",
    "#     aaa = f.readline()\n",
    "#     input_colors.append(aaa)\n",
    "#     aaa = f.readline()\n",
    "#     input_colors.append(aaa)\n"
   ]
  },
  {
   "cell_type": "code",
   "execution_count": 34,
   "metadata": {},
   "outputs": [
    {
     "data": {
      "text/plain": [
       "[[146, 65, 59], [85, 95, 102], [238, 226, 96], [49, 48, 51]]"
      ]
     },
     "execution_count": 34,
     "metadata": {},
     "output_type": "execute_result"
    }
   ],
   "source": [
    "input_colors"
   ]
  },
  {
   "cell_type": "code",
   "execution_count": 35,
   "metadata": {},
   "outputs": [
    {
     "name": "stdout",
     "output_type": "stream",
     "text": [
      "1 0\n",
      "1.0570559139452376\n",
      "2 0\n",
      "5.1563467833868035\n",
      "2 1\n",
      "4.8780265219290335\n",
      "3 0\n",
      "1.8995207833090972\n",
      "3 1\n",
      "2.0078996776587714\n",
      "3 2\n",
      "9.794587880992244\n"
     ]
    }
   ],
   "source": [
    "num_color = len(input_colors)\n",
    "\n",
    "for i in range(num_color):\n",
    "    for j in range(i):\n",
    "        print(i,j)\n",
    "        c1 = color(input_colors[i][0], input_colors[i][1], input_colors[i][2])\n",
    "        c2 = color(input_colors[j][0], input_colors[j][1], input_colors[j][2])\n",
    "        print(get_contrast_ratio(c1,c2))"
   ]
  },
  {
   "cell_type": "code",
   "execution_count": null,
   "metadata": {},
   "outputs": [],
   "source": []
  }
 ],
 "metadata": {
  "kernelspec": {
   "display_name": "Python 3",
   "language": "python",
   "name": "python3"
  },
  "language_info": {
   "codemirror_mode": {
    "name": "ipython",
    "version": 3
   },
   "file_extension": ".py",
   "mimetype": "text/x-python",
   "name": "python",
   "nbconvert_exporter": "python",
   "pygments_lexer": "ipython3",
   "version": "3.7.1"
  }
 },
 "nbformat": 4,
 "nbformat_minor": 2
}
